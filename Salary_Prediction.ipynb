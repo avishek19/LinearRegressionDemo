{
 "cells": [
  {
   "cell_type": "code",
   "execution_count": 2,
   "id": "83fa43d2-c021-422c-9a54-42ddab1c96c0",
   "metadata": {},
   "outputs": [],
   "source": [
    "import numpy as np \n",
    "import pandas as pad\n",
    "import matplotlib.pyplot as plb\n",
    "import seaborn as sns\n",
    "\n",
    "from sklearn.linear_model import LinearRegression\n",
    "from sklearn.model_selection import train_test_split\n",
    "from sklearn.metrics import mean_absolute_error, mean_squared_error, r2_score\n",
    "\n",
    "from statsmodels.stats.outliers_influence import variance_inflation_factor"
   ]
  },
  {
   "cell_type": "code",
   "execution_count": 3,
   "id": "21f8f53d-2d4d-4a52-acb8-24cce68e773b",
   "metadata": {},
   "outputs": [
    {
     "name": "stdout",
     "output_type": "stream",
     "text": [
      "   Unnamed: 0  YearsExperience   Salary\n",
      "0           0              1.2  39344.0\n",
      "1           1              1.4  46206.0\n",
      "2           2              1.6  37732.0\n",
      "3           3              2.1  43526.0\n",
      "4           4              2.3  39892.0\n"
     ]
    }
   ],
   "source": [
    "df = pad.read_csv('Salary_dataset.csv')\n",
    "print(df.head())"
   ]
  },
  {
   "cell_type": "code",
   "execution_count": 4,
   "id": "0dcce10a-ea89-4888-9ada-d15adddbd07d",
   "metadata": {},
   "outputs": [
    {
     "data": {
      "text/plain": [
       "Unnamed: 0         0\n",
       "YearsExperience    0\n",
       "Salary             0\n",
       "dtype: int64"
      ]
     },
     "execution_count": 4,
     "metadata": {},
     "output_type": "execute_result"
    }
   ],
   "source": [
    "#Check for null Columns\n",
    "df.isnull().sum()"
   ]
  },
  {
   "cell_type": "code",
   "execution_count": 5,
   "id": "cfa04648-8585-4236-baf7-35547eac19b6",
   "metadata": {},
   "outputs": [
    {
     "data": {
      "text/html": [
       "<div>\n",
       "<style scoped>\n",
       "    .dataframe tbody tr th:only-of-type {\n",
       "        vertical-align: middle;\n",
       "    }\n",
       "\n",
       "    .dataframe tbody tr th {\n",
       "        vertical-align: top;\n",
       "    }\n",
       "\n",
       "    .dataframe thead th {\n",
       "        text-align: right;\n",
       "    }\n",
       "</style>\n",
       "<table border=\"1\" class=\"dataframe\">\n",
       "  <thead>\n",
       "    <tr style=\"text-align: right;\">\n",
       "      <th></th>\n",
       "      <th>Unnamed: 0</th>\n",
       "      <th>YearsExperience</th>\n",
       "      <th>Salary</th>\n",
       "    </tr>\n",
       "  </thead>\n",
       "  <tbody>\n",
       "    <tr>\n",
       "      <th>count</th>\n",
       "      <td>30.000000</td>\n",
       "      <td>30.000000</td>\n",
       "      <td>30.000000</td>\n",
       "    </tr>\n",
       "    <tr>\n",
       "      <th>mean</th>\n",
       "      <td>14.500000</td>\n",
       "      <td>5.413333</td>\n",
       "      <td>76004.000000</td>\n",
       "    </tr>\n",
       "    <tr>\n",
       "      <th>std</th>\n",
       "      <td>8.803408</td>\n",
       "      <td>2.837888</td>\n",
       "      <td>27414.429785</td>\n",
       "    </tr>\n",
       "    <tr>\n",
       "      <th>min</th>\n",
       "      <td>0.000000</td>\n",
       "      <td>1.200000</td>\n",
       "      <td>37732.000000</td>\n",
       "    </tr>\n",
       "    <tr>\n",
       "      <th>25%</th>\n",
       "      <td>7.250000</td>\n",
       "      <td>3.300000</td>\n",
       "      <td>56721.750000</td>\n",
       "    </tr>\n",
       "    <tr>\n",
       "      <th>50%</th>\n",
       "      <td>14.500000</td>\n",
       "      <td>4.800000</td>\n",
       "      <td>65238.000000</td>\n",
       "    </tr>\n",
       "    <tr>\n",
       "      <th>75%</th>\n",
       "      <td>21.750000</td>\n",
       "      <td>7.800000</td>\n",
       "      <td>100545.750000</td>\n",
       "    </tr>\n",
       "    <tr>\n",
       "      <th>max</th>\n",
       "      <td>29.000000</td>\n",
       "      <td>10.600000</td>\n",
       "      <td>122392.000000</td>\n",
       "    </tr>\n",
       "  </tbody>\n",
       "</table>\n",
       "</div>"
      ],
      "text/plain": [
       "       Unnamed: 0  YearsExperience         Salary\n",
       "count   30.000000        30.000000      30.000000\n",
       "mean    14.500000         5.413333   76004.000000\n",
       "std      8.803408         2.837888   27414.429785\n",
       "min      0.000000         1.200000   37732.000000\n",
       "25%      7.250000         3.300000   56721.750000\n",
       "50%     14.500000         4.800000   65238.000000\n",
       "75%     21.750000         7.800000  100545.750000\n",
       "max     29.000000        10.600000  122392.000000"
      ]
     },
     "execution_count": 5,
     "metadata": {},
     "output_type": "execute_result"
    }
   ],
   "source": [
    "#Summary Statistics\n",
    "df.describe()"
   ]
  },
  {
   "cell_type": "code",
   "execution_count": 6,
   "id": "632dd596-5a83-48ec-9af2-738149c438e6",
   "metadata": {},
   "outputs": [
    {
     "data": {
      "image/png": "[encoded data removed]",
      "text/plain": [
       "<Figure size 640x480 with 1 Axes>"
      ]
     },
     "metadata": {},
     "output_type": "display_data"
    }
   ],
   "source": [
    "# Scatter plot of YearsExperience vs Salary\n",
    "sns.scatterplot(data=df, x='YearsExperience', y='Salary')\n",
    "plb.title(\"Years of Experience vs Salary\")\n",
    "plb.xlabel(\"Years of Experience\")\n",
    "plb.ylabel(\"Salary\")\n",
    "plb.grid(True)\n",
    "plb.show()"
   ]
  },
  {
   "cell_type": "code",
   "execution_count": 7,
   "id": "1c7d2eea-a4b8-47f9-8b6d-b3d5a2e9ee4f",
   "metadata": {},
   "outputs": [
    {
     "name": "stdout",
     "output_type": "stream",
     "text": [
      "                 Unnamed: 0  YearsExperience    Salary\n",
      "Unnamed: 0         1.000000         0.986460  0.960826\n",
      "YearsExperience    0.986460         1.000000  0.978242\n",
      "Salary             0.960826         0.978242  1.000000\n"
     ]
    }
   ],
   "source": [
    "#Correlation Matrix\n",
    "print(df.corr())"
   ]
  },
  {
   "cell_type": "code",
   "execution_count": 8,
   "id": "9ff56c4c-866a-443b-a8c7-6809718af129",
   "metadata": {},
   "outputs": [],
   "source": [
    "X = df[['YearsExperience']]\n",
    "y = df['Salary']"
   ]
  },
  {
   "cell_type": "code",
   "execution_count": 9,
   "id": "e6de7be1-dcfa-4e1f-bf46-c1f535726d1c",
   "metadata": {},
   "outputs": [],
   "source": [
    "# Split the data into training and testing sets (80% train, 20% test)\n",
    "X_train, X_test, y_train, y_test = train_test_split(X, y, test_size=0.2, random_state=42)"
   ]
  },
  {
   "cell_type": "code",
   "execution_count": 10,
   "id": "cf8de4ea-40ce-4bd1-aa64-050ae9d37c1c",
   "metadata": {},
   "outputs": [
    {
     "name": "stdout",
     "output_type": "stream",
     "text": [
      "Train Size:  24 \t Test Size:  6\n"
     ]
    }
   ],
   "source": [
    "# Check Train Test Data Size\n",
    "print('Train Size: ',len(X_train),'\\t','Test Size: ',len(X_test))"
   ]
  },
  {
   "cell_type": "code",
   "execution_count": 11,
   "id": "25214c80-fe6f-43dc-abf1-e4abab144ede",
   "metadata": {},
   "outputs": [
    {
     "data": {
      "text/html": [
       "<style>#sk-container-id-1 {color: black;background-color: white;}#sk-container-id-1 pre{padding: 0;}#sk-container-id-1 div.sk-toggleable {background-color: white;}#sk-container-id-1 label.sk-toggleable__label {cursor: pointer;display: block;width: 100%;margin-bottom: 0;padding: 0.3em;box-sizing: border-box;text-align: center;}#sk-container-id-1 label.sk-toggleable__label-arrow:before {content: \"▸\";float: left;margin-right: 0.25em;color: #696969;}#sk-container-id-1 label.sk-toggleable__label-arrow:hover:before {color: black;}#sk-container-id-1 div.sk-estimator:hover label.sk-toggleable__label-arrow:before {color: black;}#sk-container-id-1 div.sk-toggleable__content {max-height: 0;max-width: 0;overflow: hidden;text-align: left;background-color: #f0f8ff;}#sk-container-id-1 div.sk-toggleable__content pre {margin: 0.2em;color: black;border-radius: 0.25em;background-color: #f0f8ff;}#sk-container-id-1 input.sk-toggleable__control:checked~div.sk-toggleable__content {max-height: 200px;max-width: 100%;overflow: auto;}#sk-container-id-1 input.sk-toggleable__control:checked~label.sk-toggleable__label-arrow:before {content: \"▾\";}#sk-container-id-1 div.sk-estimator input.sk-toggleable__control:checked~label.sk-toggleable__label {background-color: #d4ebff;}#sk-container-id-1 div.sk-label input.sk-toggleable__control:checked~label.sk-toggleable__label {background-color: #d4ebff;}#sk-container-id-1 input.sk-hidden--visually {border: 0;clip: rect(1px 1px 1px 1px);clip: rect(1px, 1px, 1px, 1px);height: 1px;margin: -1px;overflow: hidden;padding: 0;position: absolute;width: 1px;}#sk-container-id-1 div.sk-estimator {font-family: monospace;background-color: #f0f8ff;border: 1px dotted black;border-radius: 0.25em;box-sizing: border-box;margin-bottom: 0.5em;}#sk-container-id-1 div.sk-estimator:hover {background-color: #d4ebff;}#sk-container-id-1 div.sk-parallel-item::after {content: \"\";width: 100%;border-bottom: 1px solid gray;flex-grow: 1;}#sk-container-id-1 div.sk-label:hover label.sk-toggleable__label {background-color: #d4ebff;}#sk-container-id-1 div.sk-serial::before {content: \"\";position: absolute;border-left: 1px solid gray;box-sizing: border-box;top: 0;bottom: 0;left: 50%;z-index: 0;}#sk-container-id-1 div.sk-serial {display: flex;flex-direction: column;align-items: center;background-color: white;padding-right: 0.2em;padding-left: 0.2em;position: relative;}#sk-container-id-1 div.sk-item {position: relative;z-index: 1;}#sk-container-id-1 div.sk-parallel {display: flex;align-items: stretch;justify-content: center;background-color: white;position: relative;}#sk-container-id-1 div.sk-item::before, #sk-container-id-1 div.sk-parallel-item::before {content: \"\";position: absolute;border-left: 1px solid gray;box-sizing: border-box;top: 0;bottom: 0;left: 50%;z-index: -1;}#sk-container-id-1 div.sk-parallel-item {display: flex;flex-direction: column;z-index: 1;position: relative;background-color: white;}#sk-container-id-1 div.sk-parallel-item:first-child::after {align-self: flex-end;width: 50%;}#sk-container-id-1 div.sk-parallel-item:last-child::after {align-self: flex-start;width: 50%;}#sk-container-id-1 div.sk-parallel-item:only-child::after {width: 0;}#sk-container-id-1 div.sk-dashed-wrapped {border: 1px dashed gray;margin: 0 0.4em 0.5em 0.4em;box-sizing: border-box;padding-bottom: 0.4em;background-color: white;}#sk-container-id-1 div.sk-label label {font-family: monospace;font-weight: bold;display: inline-block;line-height: 1.2em;}#sk-container-id-1 div.sk-label-container {text-align: center;}#sk-container-id-1 div.sk-container {/* jupyter's `normalize.less` sets `[hidden] { display: none; }` but bootstrap.min.css set `[hidden] { display: none !important; }` so we also need the `!important` here to be able to override the default hidden behavior on the sphinx rendered scikit-learn.org. See: https://github.com/scikit-learn/scikit-learn/issues/21755 */display: inline-block !important;position: relative;}#sk-container-id-1 div.sk-text-repr-fallback {display: none;}</style><div id=\"sk-container-id-1\" class=\"sk-top-container\"><div class=\"sk-text-repr-fallback\"><pre>LinearRegression()</pre><b>In a Jupyter environment, please rerun this cell to show the HTML representation or trust the notebook. <br />On GitHub, the HTML representation is unable to render, please try loading this page with nbviewer.org.</b></div><div class=\"sk-container\" hidden><div class=\"sk-item\"><div class=\"sk-estimator sk-toggleable\"><input class=\"sk-toggleable__control sk-hidden--visually\" id=\"sk-estimator-id-1\" type=\"checkbox\" checked><label for=\"sk-estimator-id-1\" class=\"sk-toggleable__label sk-toggleable__label-arrow\">LinearRegression</label><div class=\"sk-toggleable__content\"><pre>LinearRegression()</pre></div></div></div></div></div>"
      ],
      "text/plain": [
       "LinearRegression()"
      ]
     },
     "execution_count": 11,
     "metadata": {},
     "output_type": "execute_result"
    }
   ],
   "source": [
    "# Create the model\n",
    "model = LinearRegression()\n",
    "\n",
    "#Train the model\n",
    "model.fit(X_train, y_train)"
   ]
  },
  {
   "cell_type": "code",
   "execution_count": 12,
   "id": "2cf62ba2-d265-43b4-9e20-cb16f278dbe1",
   "metadata": {},
   "outputs": [
    {
     "name": "stdout",
     "output_type": "stream",
     "text": [
      "Intercept (b0): 24380.201479473704\n",
      "Slope (b1): 9423.815323030976\n"
     ]
    }
   ],
   "source": [
    "# Intercept and coefficient\n",
    "intercept = model.intercept_\n",
    "slope = model.coef_[0]\n",
    "\n",
    "print(f\"Intercept (b0): {intercept}\")\n",
    "print(f\"Slope (b1): {slope}\")"
   ]
  },
  {
   "cell_type": "code",
   "execution_count": 13,
   "id": "3cac2599-c62e-4025-8b1b-c95cd29e7ff9",
   "metadata": {},
   "outputs": [
    {
     "name": "stdout",
     "output_type": "stream",
     "text": [
      "      Actual      Predicted\n",
      "27  112636.0  115791.210113\n",
      "15   67939.0   71499.278095\n",
      "23  113813.0  102597.868661\n",
      "17   83089.0   75268.804224\n",
      "8    64446.0   55478.792045\n",
      "9    57190.0   60190.699707\n"
     ]
    }
   ],
   "source": [
    "# Make predictions\n",
    "y_pred = model.predict(X_test)\n",
    "\n",
    "# Compare actual vs predicted\n",
    "comparison = pad.DataFrame({'Actual': y_test, 'Predicted': y_pred})\n",
    "print(comparison)"
   ]
  },
  {
   "cell_type": "markdown",
   "id": "6d023664-78fe-499b-a106-33484fef246f",
   "metadata": {},
   "source": [
    "# Evaluate Model"
   ]
  },
  {
   "cell_type": "code",
   "execution_count": 15,
   "id": "3ebb4fad-4df0-4aa5-bf56-49f5f9ee3d26",
   "metadata": {},
   "outputs": [
    {
     "name": "stdout",
     "output_type": "stream",
     "text": [
      "Mean Absolute Error (MAE): 6286.453830757745\n",
      "Mean Squared Error (MSE): 49830096.855908394\n",
      "Root Mean Squared Error (RMSE): 7059.04362190151\n",
      "R-squared (R²): 0.9024461774180497\n"
     ]
    }
   ],
   "source": [
    "# Error metrics\n",
    "mae = mean_absolute_error(y_test, y_pred)\n",
    "mse = mean_squared_error(y_test, y_pred)\n",
    "rmse = np.sqrt(mse)\n",
    "r2 = r2_score(y_test, y_pred)\n",
    "\n",
    "print(f\"Mean Absolute Error (MAE): {mae}\")\n",
    "print(f\"Mean Squared Error (MSE): {mse}\")\n",
    "print(f\"Root Mean Squared Error (RMSE): {rmse}\")\n",
    "print(f\"R-squared (R²): {r2}\")"
   ]
  },
  {
   "cell_type": "code",
   "execution_count": 16,
   "id": "23a4afbd-b075-4d61-a879-e33896bd23d8",
   "metadata": {},
   "outputs": [
    {
     "data": {
      "image/png": "[encoded data removed]",
      "text/plain": [
       "<Figure size 640x480 with 1 Axes>"
      ]
     },
     "metadata": {},
     "output_type": "display_data"
    }
   ],
   "source": [
    "# Plot regression line with data\n",
    "plb.scatter(X, y, color='blue', label='Actual Data')\n",
    "plb.plot(X, model.predict(X), color='red', label='Regression Line')\n",
    "plb.title('Regression Line: Salary vs Experience')\n",
    "plb.xlabel('Years of Experience')\n",
    "plb.ylabel('Salary')\n",
    "plb.legend()\n",
    "plb.grid(True)\n",
    "plb.show()"
   ]
  },
  {
   "cell_type": "code",
   "execution_count": 17,
   "id": "90dc1a67-2dc1-4c3a-9d3f-90ef0616c2ae",
   "metadata": {},
   "outputs": [
    {
     "data": {
      "image/png": "[encoded data removed]",
      "text/plain": [
       "<Figure size 640x480 with 1 Axes>"
      ]
     },
     "metadata": {},
     "output_type": "display_data"
    }
   ],
   "source": [
    "# Residuals\n",
    "residuals = y_test - y_pred\n",
    "\n",
    "# Plot residuals\n",
    "sns.residplot(x=y_pred, y=residuals, lowess=True, color=\"purple\")\n",
    "plb.xlabel(\"Predicted Salary\")\n",
    "plb.ylabel(\"Residuals\")\n",
    "plb.title(\"Residuals vs Predicted Salary\")\n",
    "plb.grid(True)\n",
    "plb.show()"
   ]
  },
  {
   "cell_type": "markdown",
   "id": "b4948d6b-bf88-42f5-a92e-7542dad88c9e",
   "metadata": {},
   "source": [
    "# Regularisation"
   ]
  },
  {
   "cell_type": "code",
   "execution_count": 19,
   "id": "ebe8d24e-4cd9-43ad-a667-50740a92e01d",
   "metadata": {},
   "outputs": [
    {
     "name": "stdout",
     "output_type": "stream",
     "text": [
      "R2-score is: 0.9024455162895476\n"
     ]
    }
   ],
   "source": [
    "# Regularization of Linear Regression\n",
    "# Assumptions of Linear Regression\n",
    "# Lasso Regularization(L1)\n",
    "# Tends to make the coefficient to absolute zero\n",
    "# add the absolute value of magnitude of coefficient as penlaty term to loss function\n",
    "\n",
    "from sklearn.linear_model import Lasso\n",
    "las = Lasso()\n",
    "las.fit(X_train, y_train)\n",
    "y_pred_test = las.predict(X_test)\n",
    "print(f\"R2-score is: {r2_score(y_test, y_pred_test)}\")"
   ]
  },
  {
   "cell_type": "code",
   "execution_count": 20,
   "id": "18679090-1265-4d77-8550-a0f76dadd04b",
   "metadata": {},
   "outputs": [
    {
     "name": "stdout",
     "output_type": "stream",
     "text": [
      "R2-score is: 0.9021627846740264\n"
     ]
    }
   ],
   "source": [
    "# Ridge Regression (L2)\n",
    "# Add squared magnitude of coefficecitns as penalty term for the loss function\n",
    "# Result never set the value of co-efficients to absolute zero\n",
    "\n",
    "from sklearn.linear_model import Ridge\n",
    "ridge = Ridge()\n",
    "ridge.fit(X_train, y_train)\n",
    "y_pred_test = ridge.predict(X_test)\n",
    "print(f\"R2-score is: {r2_score(y_test, y_pred_test)}\")"
   ]
  },
  {
   "cell_type": "code",
   "execution_count": 21,
   "id": "4fe3dc37-ce06-44aa-9669-3ece5bfad8d1",
   "metadata": {},
   "outputs": [
    {
     "name": "stdout",
     "output_type": "stream",
     "text": [
      "R2-score is: 0.8962527621642433\n"
     ]
    }
   ],
   "source": [
    "# ElasticNet Regularization (L1+ L2)\n",
    "# Add squared magnitude of coefficecitns as penalty term for the loss function\n",
    "# Result never set the value of co-efficients to absolute zero\n",
    "\n",
    "from sklearn.linear_model import ElasticNet\n",
    "elasticnet = ElasticNet()\n",
    "elasticnet.fit(X_train, y_train)\n",
    "y_pred_test = elasticnet.predict(X_test)\n",
    "print(f\"R2-score is: {r2_score(y_test, y_pred_test)}\")"
   ]
  },
  {
   "cell_type": "markdown",
   "id": "d48cf840-f267-4ac1-910e-dd48214d0a62",
   "metadata": {},
   "source": [
    "# Assumptions of Linear Regression"
   ]
  },
  {
   "cell_type": "code",
   "execution_count": 23,
   "id": "69024843-f7d4-46b4-9310-031d540275ec",
   "metadata": {},
   "outputs": [
    {
     "data": {
      "text/html": [
       "<div>\n",
       "<style scoped>\n",
       "    .dataframe tbody tr th:only-of-type {\n",
       "        vertical-align: middle;\n",
       "    }\n",
       "\n",
       "    .dataframe tbody tr th {\n",
       "        vertical-align: top;\n",
       "    }\n",
       "\n",
       "    .dataframe thead th {\n",
       "        text-align: right;\n",
       "    }\n",
       "</style>\n",
       "<table border=\"1\" class=\"dataframe\">\n",
       "  <thead>\n",
       "    <tr style=\"text-align: right;\">\n",
       "      <th></th>\n",
       "      <th>YearsExperience</th>\n",
       "      <th>Salary</th>\n",
       "    </tr>\n",
       "  </thead>\n",
       "  <tbody>\n",
       "    <tr>\n",
       "      <th>0</th>\n",
       "      <td>1.2</td>\n",
       "      <td>39344.0</td>\n",
       "    </tr>\n",
       "    <tr>\n",
       "      <th>1</th>\n",
       "      <td>1.4</td>\n",
       "      <td>46206.0</td>\n",
       "    </tr>\n",
       "    <tr>\n",
       "      <th>2</th>\n",
       "      <td>1.6</td>\n",
       "      <td>37732.0</td>\n",
       "    </tr>\n",
       "  </tbody>\n",
       "</table>\n",
       "</div>"
      ],
      "text/plain": [
       "   YearsExperience   Salary\n",
       "0              1.2  39344.0\n",
       "1              1.4  46206.0\n",
       "2              1.6  37732.0"
      ]
     },
     "execution_count": 23,
     "metadata": {},
     "output_type": "execute_result"
    }
   ],
   "source": [
    "#Linear releationshiop between feature and target\n",
    "df.head(3)[['YearsExperience','Salary']]"
   ]
  },
  {
   "cell_type": "code",
   "execution_count": 24,
   "id": "62135184-15ad-4db1-9f34-fe4dba1f73d3",
   "metadata": {},
   "outputs": [
    {
     "data": {
      "image/png": "[encoded data removed]",
      "text/plain": [
       "<Figure size 250x250 with 1 Axes>"
      ]
     },
     "metadata": {},
     "output_type": "display_data"
    }
   ],
   "source": [
    "import seaborn as sns\n",
    "sns.pairplot(df,x_vars=['YearsExperience'],y_vars=['Salary'])\n",
    "plb.show()"
   ]
  },
  {
   "cell_type": "code",
   "execution_count": 25,
   "id": "db8a6822-3906-4628-b952-7cae4b7d1217",
   "metadata": {},
   "outputs": [
    {
     "data": {
      "text/html": [
       "<div>\n",
       "<style scoped>\n",
       "    .dataframe tbody tr th:only-of-type {\n",
       "        vertical-align: middle;\n",
       "    }\n",
       "\n",
       "    .dataframe tbody tr th {\n",
       "        vertical-align: top;\n",
       "    }\n",
       "\n",
       "    .dataframe thead th {\n",
       "        text-align: right;\n",
       "    }\n",
       "</style>\n",
       "<table border=\"1\" class=\"dataframe\">\n",
       "  <thead>\n",
       "    <tr style=\"text-align: right;\">\n",
       "      <th></th>\n",
       "      <th>Unnamed: 0</th>\n",
       "      <th>YearsExperience</th>\n",
       "      <th>Salary</th>\n",
       "    </tr>\n",
       "  </thead>\n",
       "  <tbody>\n",
       "    <tr>\n",
       "      <th>Unnamed: 0</th>\n",
       "      <td>1.000000</td>\n",
       "      <td>0.986460</td>\n",
       "      <td>0.960826</td>\n",
       "    </tr>\n",
       "    <tr>\n",
       "      <th>YearsExperience</th>\n",
       "      <td>0.986460</td>\n",
       "      <td>1.000000</td>\n",
       "      <td>0.978242</td>\n",
       "    </tr>\n",
       "    <tr>\n",
       "      <th>Salary</th>\n",
       "      <td>0.960826</td>\n",
       "      <td>0.978242</td>\n",
       "      <td>1.000000</td>\n",
       "    </tr>\n",
       "  </tbody>\n",
       "</table>\n",
       "</div>"
      ],
      "text/plain": [
       "                 Unnamed: 0  YearsExperience    Salary\n",
       "Unnamed: 0         1.000000         0.986460  0.960826\n",
       "YearsExperience    0.986460         1.000000  0.978242\n",
       "Salary             0.960826         0.978242  1.000000"
      ]
     },
     "execution_count": 25,
     "metadata": {},
     "output_type": "execute_result"
    }
   ],
   "source": [
    "#Pearson`s co-efficient\n",
    "corr = df.corr()\n",
    "corr"
   ]
  },
  {
   "cell_type": "code",
   "execution_count": 26,
   "id": "ad7ea31c-02cb-420d-83b6-289f09090534",
   "metadata": {},
   "outputs": [
    {
     "data": {
      "text/plain": [
       "array([113428.60616874,  71653.21546209, 100984.87276676,  75208.56786266,\n",
       "        56542.96775969,  60987.1582604 ])"
      ]
     },
     "execution_count": 26,
     "metadata": {},
     "output_type": "execute_result"
    }
   ],
   "source": [
    "y_pred_test"
   ]
  },
  {
   "cell_type": "code",
   "execution_count": 27,
   "id": "54cd6c28-dbf2-4047-89e0-f8bcc5da0369",
   "metadata": {},
   "outputs": [
    {
     "data": {
      "text/plain": [
       "27    112636.0\n",
       "15     67939.0\n",
       "23    113813.0\n",
       "17     83089.0\n",
       "8      64446.0\n",
       "9      57190.0\n",
       "Name: Salary, dtype: float64"
      ]
     },
     "execution_count": 27,
     "metadata": {},
     "output_type": "execute_result"
    }
   ],
   "source": [
    "y_test"
   ]
  },
  {
   "cell_type": "code",
   "execution_count": 28,
   "id": "8b073a0e-c8e8-4bc3-a832-bb07f93b0808",
   "metadata": {},
   "outputs": [
    {
     "data": {
      "text/plain": [
       "27     -792.606169\n",
       "15    -3714.215462\n",
       "23    12828.127233\n",
       "17     7880.432137\n",
       "8      7903.032240\n",
       "9     -3797.158260\n",
       "Name: Salary, dtype: float64"
      ]
     },
     "execution_count": 28,
     "metadata": {},
     "output_type": "execute_result"
    }
   ],
   "source": [
    "# mean residuals = 0\n",
    "\n",
    "# Residuals\n",
    "residual = (y_test - y_pred_test)\n",
    "residual"
   ]
  },
  {
   "cell_type": "code",
   "execution_count": 29,
   "id": "e07a7f2e-1a9b-4a5c-8941-b62eadee94b1",
   "metadata": {},
   "outputs": [
    {
     "data": {
      "text/plain": [
       "3384.601953276804"
      ]
     },
     "execution_count": 29,
     "metadata": {},
     "output_type": "execute_result"
    }
   ],
   "source": [
    "np.mean(residual)"
   ]
  },
  {
   "cell_type": "code",
   "execution_count": 30,
   "id": "3419c6a2-67a3-4c3b-8266-21568f4133e0",
   "metadata": {},
   "outputs": [
    {
     "data": {
      "text/plain": [
       "83185.5"
      ]
     },
     "execution_count": 30,
     "metadata": {},
     "output_type": "execute_result"
    }
   ],
   "source": [
    "np.average(y_test)"
   ]
  },
  {
   "cell_type": "code",
   "execution_count": 31,
   "id": "7f2cc055-d654-4807-a992-38f4f8bfd42b",
   "metadata": {},
   "outputs": [
    {
     "name": "stdout",
     "output_type": "stream",
     "text": [
      "Mean is around: 4.0% error\n"
     ]
    }
   ],
   "source": [
    "# Mean is around\n",
    "result = np.mean(residual)/np.average(y_test)\n",
    "result = np.round(result,2)*100\n",
    "print(f\"Mean is around: {result}% error\")"
   ]
  },
  {
   "cell_type": "code",
   "execution_count": 32,
   "id": "ef1ed40a-a08d-4060-b2e6-47ba6a2603c2",
   "metadata": {},
   "outputs": [
    {
     "data": {
      "image/png": "[encoded data removed]",
      "text/plain": [
       "<Figure size 500x500 with 1 Axes>"
      ]
     },
     "metadata": {},
     "output_type": "display_data"
    }
   ],
   "source": [
    "#Normal distribution of error terms\n",
    "sns.displot(residual,kind=\"kde\")\n",
    "plb.show()"
   ]
  },
  {
   "cell_type": "markdown",
   "id": "c10a4803-fd83-4c28-adc6-6e1af57577b8",
   "metadata": {},
   "source": [
    "## No Multicolinearity"
   ]
  },
  {
   "cell_type": "code",
   "execution_count": 34,
   "id": "8af4003e-61c4-4977-beca-c56002253632",
   "metadata": {},
   "outputs": [],
   "source": [
    "#Multi collinearity\n",
    "#VIF Score"
   ]
  },
  {
   "cell_type": "code",
   "execution_count": 35,
   "id": "998e9d7e-2f4f-464a-a736-67b2147fb77e",
   "metadata": {},
   "outputs": [],
   "source": [
    "from statsmodels.stats.outliers_influence import variance_inflation_factor"
   ]
  },
  {
   "cell_type": "code",
   "execution_count": 36,
   "id": "c596b70b-8103-4247-8c0f-6324b6e433b9",
   "metadata": {},
   "outputs": [
    {
     "name": "stdout",
     "output_type": "stream",
     "text": [
      "           feature        VIF\n",
      "0            const  25.350033\n",
      "1       Unnamed: 0  37.747594\n",
      "2  YearsExperience  67.362932\n",
      "3           Salary  23.586798\n"
     ]
    }
   ],
   "source": [
    "import pandas as pd\n",
    "from statsmodels.stats.outliers_influence import variance_inflation_factor\n",
    "from statsmodels.tools.tools import add_constant\n",
    "\n",
    "# Step 1: Remove dependent variable (salary)\n",
    "X = df.drop(columns=[\"salary\"], errors=\"ignore\")\n",
    "\n",
    "# Step 2: Keep only numeric features\n",
    "X = X.select_dtypes(include=[\"float64\", \"int64\"])\n",
    "\n",
    "# Step 3: Drop rows with NaN or inf (optional but recommended)\n",
    "X = X.dropna()\n",
    "\n",
    "# Step 4: Add constant\n",
    "X_const = add_constant(X)\n",
    "\n",
    "# Step 5: Calculate VIF\n",
    "vif_data = pd.DataFrame()\n",
    "vif_data[\"feature\"] = X_const.columns\n",
    "vif_data[\"VIF\"] = [\n",
    "    variance_inflation_factor(X_const.values, i)\n",
    "    for i in range(X_const.shape[1])\n",
    "]\n",
    "\n",
    "print(vif_data)\n"
   ]
  },
  {
   "cell_type": "code",
   "execution_count": 37,
   "id": "5d2b9860-f0be-49e9-a2e3-7d629d8c3f0a",
   "metadata": {},
   "outputs": [
    {
     "name": "stdout",
     "output_type": "stream",
     "text": [
      "         X1        X2        X3          y\n",
      "0  3.745401  3.059179  6.420316  21.742010\n",
      "1  9.507143  8.878535  0.841400  26.412453\n",
      "2  7.319939  6.484663  1.616287  27.594529\n",
      "3  5.986585  5.806409  8.985542  32.622525\n",
      "4  1.560186  3.063282  6.064291  12.698165\n"
     ]
    }
   ],
   "source": [
    "import pandas as pd\n",
    "import numpy as np\n",
    "from sklearn.linear_model import LinearRegression\n",
    "from statsmodels.stats.outliers_influence import variance_inflation_factor\n",
    "from statsmodels.tools.tools import add_constant\n",
    "\n",
    "# ---------------------------\n",
    "# 1. Create a sample dataset\n",
    "# ---------------------------\n",
    "np.random.seed(42)\n",
    "n = 100\n",
    "\n",
    "X1 = np.random.rand(n) * 10\n",
    "X2 = X1 * 0.8 + np.random.rand(n) * 2   # correlated with X1\n",
    "X3 = np.random.rand(n) * 10\n",
    "y = 3 + 2*X1 + 0.5*X2 + 1.5*X3 + np.random.randn(n) * 2\n",
    "\n",
    "df = pd.DataFrame({\"X1\": X1, \"X2\": X2, \"X3\": X3, \"y\": y})\n",
    "print(df[:5])"
   ]
  },
  {
   "cell_type": "code",
   "execution_count": 38,
   "id": "b3f7e5c2-e51d-4724-9e4c-16809d20246f",
   "metadata": {},
   "outputs": [
    {
     "name": "stdout",
     "output_type": "stream",
     "text": [
      "Model Coefficients: [1.91634608 0.70854972 1.56586964]\n",
      "Intercept: 2.1999442460555727\n",
      "\n",
      "Variance Inflation Factors:\n",
      "  feature        VIF\n",
      "0   const  11.112919\n",
      "1      X1  17.543227\n",
      "2      X2  17.609993\n",
      "3      X3   1.023792\n"
     ]
    }
   ],
   "source": [
    "# ---------------------------\n",
    "# 2. Train Linear Regression\n",
    "# ---------------------------\n",
    "X = df[[\"X1\", \"X2\", \"X3\"]]\n",
    "model = LinearRegression()\n",
    "model.fit(X, df[\"y\"])\n",
    "\n",
    "print(\"Model Coefficients:\", model.coef_)\n",
    "print(\"Intercept:\", model.intercept_)\n",
    "\n",
    "# ---------------------------\n",
    "# 3. Calculate VIF\n",
    "# ---------------------------\n",
    "X_const = add_constant(X)\n",
    "vif_data = pd.DataFrame()\n",
    "vif_data[\"feature\"] = X_const.columns\n",
    "vif_data[\"VIF\"] = [\n",
    "    variance_inflation_factor(X_const.values, i)\n",
    "    for i in range(X_const.shape[1])\n",
    "]\n",
    "print(\"\\nVariance Inflation Factors:\")\n",
    "print(vif_data)"
   ]
  },
  {
   "cell_type": "code",
   "execution_count": null,
   "id": "7dab6bd2-7869-4187-b3d7-133ef9c8b49e",
   "metadata": {},
   "outputs": [],
   "source": []
  }
 ],
 "metadata": {
  "kernelspec": {
   "display_name": "Python 3 (ipykernel)",
   "language": "python",
   "name": "python3"
  },
  "language_info": {
   "codemirror_mode": {
    "name": "ipython",
    "version": 3
   },
   "file_extension": ".py",
   "mimetype": "text/x-python",
   "name": "python",
   "nbconvert_exporter": "python",
   "pygments_lexer": "ipython3",
   "version": "3.10.9"
  }
 },
 "nbformat": 4,
 "nbformat_minor": 5
}
